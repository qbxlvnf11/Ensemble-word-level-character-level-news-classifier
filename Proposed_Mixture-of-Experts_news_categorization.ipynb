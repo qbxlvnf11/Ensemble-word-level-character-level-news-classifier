{
 "cells": [
  {
   "cell_type": "markdown",
   "metadata": {},
   "source": [
    "# Loading & Analysis of News Aggregator Dataset"
   ]
  },
  {
   "cell_type": "code",
   "execution_count": 1,
   "metadata": {},
   "outputs": [
    {
     "name": "stderr",
     "output_type": "stream",
     "text": [
      "Using TensorFlow backend.\n"
     ]
    }
   ],
   "source": [
    "import numpy as np\n",
    "import pandas as pd\n",
    "import matplotlib.pyplot as plt\n",
    "\n",
    "import keras\n",
    "import tensorflow as tf\n",
    "\n",
    "# keras: for data processing\n",
    "from keras.preprocessing.text import Tokenizer\n",
    "from keras.preprocessing.sequence import pad_sequences\n",
    "from sklearn.model_selection import train_test_split\n",
    "from keras.utils.np_utils import to_categorical\n",
    "\n",
    "# keras: for Deep-learing\n",
    "from tensorflow.keras.layers import *\n",
    "from tensorflow.keras.models import *\n",
    "from tensorflow.keras.activations import *\n",
    "from tensorflow.keras.backend import *\n",
    "from tensorflow.keras.callbacks import EarlyStopping\n",
    "from tensorflow.keras.optimizers import *"
   ]
  },
  {
   "cell_type": "code",
   "execution_count": 2,
   "metadata": {},
   "outputs": [],
   "source": [
    "np.random.seed(41)"
   ]
  },
  {
   "cell_type": "markdown",
   "metadata": {},
   "source": [
    "- Data load"
   ]
  },
  {
   "cell_type": "code",
   "execution_count": 3,
   "metadata": {},
   "outputs": [],
   "source": [
    "data = pd.read_csv('./data/uci_news_aggregator.csv', delimiter = ',', skiprows = 1,\n",
    "                   names = ['ID', 'TITLE', 'URL', 'PUBLISHER', 'CATEGORY', 'STORY',\n",
    "                            'HOSTNAME', 'TIMESTAMP'], usecols=['TITLE', 'CATEGORY'])"
   ]
  },
  {
   "cell_type": "code",
   "execution_count": 4,
   "metadata": {},
   "outputs": [],
   "source": [
    "data = data.reindex(np.random.permutation(data.index))"
   ]
  },
  {
   "cell_type": "code",
   "execution_count": 5,
   "metadata": {},
   "outputs": [
    {
     "data": {
      "text/html": [
       "<div>\n",
       "<style scoped>\n",
       "    .dataframe tbody tr th:only-of-type {\n",
       "        vertical-align: middle;\n",
       "    }\n",
       "\n",
       "    .dataframe tbody tr th {\n",
       "        vertical-align: top;\n",
       "    }\n",
       "\n",
       "    .dataframe thead th {\n",
       "        text-align: right;\n",
       "    }\n",
       "</style>\n",
       "<table border=\"1\" class=\"dataframe\">\n",
       "  <thead>\n",
       "    <tr style=\"text-align: right;\">\n",
       "      <th></th>\n",
       "      <th>TITLE</th>\n",
       "      <th>CATEGORY</th>\n",
       "    </tr>\n",
       "  </thead>\n",
       "  <tbody>\n",
       "    <tr>\n",
       "      <td>51683</td>\n",
       "      <td>Cloud first, mobile first: Word, Powerpoint, a...</td>\n",
       "      <td>b</td>\n",
       "    </tr>\n",
       "    <tr>\n",
       "      <td>364094</td>\n",
       "      <td>This Is How a 'Go-Around' Avoids Disaster at a...</td>\n",
       "      <td>b</td>\n",
       "    </tr>\n",
       "    <tr>\n",
       "      <td>220239</td>\n",
       "      <td>Insider Source: Apple and Samsung Renew Settle...</td>\n",
       "      <td>t</td>\n",
       "    </tr>\n",
       "    <tr>\n",
       "      <td>15418</td>\n",
       "      <td>States Asks Big Retail to Halt Tobacco Sales</td>\n",
       "      <td>m</td>\n",
       "    </tr>\n",
       "    <tr>\n",
       "      <td>162428</td>\n",
       "      <td>FDA Proposes New Regulations on E-Cigarettes</td>\n",
       "      <td>m</td>\n",
       "    </tr>\n",
       "    <tr>\n",
       "      <td>346459</td>\n",
       "      <td>Paul Mazursky, director of Bob &amp; Carol &amp; Ted &amp;...</td>\n",
       "      <td>e</td>\n",
       "    </tr>\n",
       "    <tr>\n",
       "      <td>60046</td>\n",
       "      <td>BlackBerry CEO trying to improve relationships...</td>\n",
       "      <td>b</td>\n",
       "    </tr>\n",
       "    <tr>\n",
       "      <td>331513</td>\n",
       "      <td>Android 5.0 Lollipop Is Sealed, No Touchwiz, S...</td>\n",
       "      <td>t</td>\n",
       "    </tr>\n",
       "    <tr>\n",
       "      <td>7953</td>\n",
       "      <td>Blood test for Alzheimer's risk could be a bre...</td>\n",
       "      <td>m</td>\n",
       "    </tr>\n",
       "    <tr>\n",
       "      <td>78829</td>\n",
       "      <td>Celebrate the return of 'Game of Thrones' with...</td>\n",
       "      <td>e</td>\n",
       "    </tr>\n",
       "    <tr>\n",
       "      <td>288328</td>\n",
       "      <td>VIDEO: At E3, Signs That Virtual Reality's Tim...</td>\n",
       "      <td>t</td>\n",
       "    </tr>\n",
       "    <tr>\n",
       "      <td>15761</td>\n",
       "      <td>Yellen and the Fed, a WSJ Briefing</td>\n",
       "      <td>b</td>\n",
       "    </tr>\n",
       "    <tr>\n",
       "      <td>28245</td>\n",
       "      <td>Teens unite at Kick Butts Day to fight tobacco...</td>\n",
       "      <td>m</td>\n",
       "    </tr>\n",
       "    <tr>\n",
       "      <td>155307</td>\n",
       "      <td>Facebook Q1 earnings soar to $642 million</td>\n",
       "      <td>b</td>\n",
       "    </tr>\n",
       "    <tr>\n",
       "      <td>364918</td>\n",
       "      <td>Solange Lands Lucky Cover; Addresses Elevator ...</td>\n",
       "      <td>e</td>\n",
       "    </tr>\n",
       "    <tr>\n",
       "      <td>197202</td>\n",
       "      <td>FTC: Snapchat deceived users about vanishing m...</td>\n",
       "      <td>t</td>\n",
       "    </tr>\n",
       "    <tr>\n",
       "      <td>389009</td>\n",
       "      <td>Lindsay Lohan Flaunts Beach Bod, Wears Sexy Bl...</td>\n",
       "      <td>e</td>\n",
       "    </tr>\n",
       "    <tr>\n",
       "      <td>135446</td>\n",
       "      <td>Findings offer new paths towards improved fert...</td>\n",
       "      <td>m</td>\n",
       "    </tr>\n",
       "    <tr>\n",
       "      <td>4058</td>\n",
       "      <td>You're The Boss: Girl Scouts, LeanIn Vow To Ba...</td>\n",
       "      <td>e</td>\n",
       "    </tr>\n",
       "    <tr>\n",
       "      <td>280371</td>\n",
       "      <td>Mila Kunis doesnt like men saying We are pregnant</td>\n",
       "      <td>e</td>\n",
       "    </tr>\n",
       "  </tbody>\n",
       "</table>\n",
       "</div>"
      ],
      "text/plain": [
       "                                                    TITLE CATEGORY\n",
       "51683   Cloud first, mobile first: Word, Powerpoint, a...        b\n",
       "364094  This Is How a 'Go-Around' Avoids Disaster at a...        b\n",
       "220239  Insider Source: Apple and Samsung Renew Settle...        t\n",
       "15418        States Asks Big Retail to Halt Tobacco Sales        m\n",
       "162428       FDA Proposes New Regulations on E-Cigarettes        m\n",
       "346459  Paul Mazursky, director of Bob & Carol & Ted &...        e\n",
       "60046   BlackBerry CEO trying to improve relationships...        b\n",
       "331513  Android 5.0 Lollipop Is Sealed, No Touchwiz, S...        t\n",
       "7953    Blood test for Alzheimer's risk could be a bre...        m\n",
       "78829   Celebrate the return of 'Game of Thrones' with...        e\n",
       "288328  VIDEO: At E3, Signs That Virtual Reality's Tim...        t\n",
       "15761                  Yellen and the Fed, a WSJ Briefing        b\n",
       "28245   Teens unite at Kick Butts Day to fight tobacco...        m\n",
       "155307          Facebook Q1 earnings soar to $642 million        b\n",
       "364918  Solange Lands Lucky Cover; Addresses Elevator ...        e\n",
       "197202  FTC: Snapchat deceived users about vanishing m...        t\n",
       "389009  Lindsay Lohan Flaunts Beach Bod, Wears Sexy Bl...        e\n",
       "135446  Findings offer new paths towards improved fert...        m\n",
       "4058    You're The Boss: Girl Scouts, LeanIn Vow To Ba...        e\n",
       "280371  Mila Kunis doesnt like men saying We are pregnant        e"
      ]
     },
     "execution_count": 5,
     "metadata": {},
     "output_type": "execute_result"
    }
   ],
   "source": [
    "data.head(20)"
   ]
  },
  {
   "cell_type": "code",
   "execution_count": 6,
   "metadata": {},
   "outputs": [
    {
     "data": {
      "text/plain": [
       "(422419, 2)"
      ]
     },
     "execution_count": 6,
     "metadata": {},
     "output_type": "execute_result"
    }
   ],
   "source": [
    "data.shape"
   ]
  },
  {
   "cell_type": "markdown",
   "metadata": {},
   "source": [
    "- Value count"
   ]
  },
  {
   "cell_type": "code",
   "execution_count": 7,
   "metadata": {},
   "outputs": [
    {
     "data": {
      "text/plain": [
       "<matplotlib.axes._subplots.AxesSubplot at 0x7fd1ca6d5890>"
      ]
     },
     "execution_count": 7,
     "metadata": {},
     "output_type": "execute_result"
    },
    {
     "data": {
      "image/png": "[encoded data removed]",
      "text/plain": [
       "<Figure size 576x288 with 1 Axes>"
      ]
     },
     "metadata": {
      "needs_background": "light"
     },
     "output_type": "display_data"
    }
   ],
   "source": [
    "data.CATEGORY.value_counts().plot(kind='bar', grid=False, figsize=(8, 4))"
   ]
  },
  {
   "cell_type": "code",
   "execution_count": 8,
   "metadata": {},
   "outputs": [
    {
     "data": {
      "text/plain": [
       "e    152469\n",
       "b    115967\n",
       "t    108344\n",
       "m     45639\n",
       "Name: CATEGORY, dtype: int64"
      ]
     },
     "execution_count": 8,
     "metadata": {},
     "output_type": "execute_result"
    }
   ],
   "source": [
    "data.CATEGORY.value_counts()"
   ]
  },
  {
   "cell_type": "markdown",
   "metadata": {},
   "source": [
    "- Construct label"
   ]
  },
  {
   "cell_type": "code",
   "execution_count": 9,
   "metadata": {},
   "outputs": [],
   "source": [
    "e = data[data['CATEGORY'] == 'e']#[:num_of_categories]\n",
    "b = data[data['CATEGORY'] == 'b']#[:num_of_categories]\n",
    "t = data[data['CATEGORY'] == 't']#[:num_of_categories]\n",
    "m = data[data['CATEGORY'] == 'm']#[:num_of_categories]\n",
    "\n",
    "concated = pd.concat([e,b,t,m], ignore_index=True)"
   ]
  },
  {
   "cell_type": "code",
   "execution_count": 10,
   "metadata": {},
   "outputs": [
    {
     "data": {
      "text/html": [
       "<div>\n",
       "<style scoped>\n",
       "    .dataframe tbody tr th:only-of-type {\n",
       "        vertical-align: middle;\n",
       "    }\n",
       "\n",
       "    .dataframe tbody tr th {\n",
       "        vertical-align: top;\n",
       "    }\n",
       "\n",
       "    .dataframe thead th {\n",
       "        text-align: right;\n",
       "    }\n",
       "</style>\n",
       "<table border=\"1\" class=\"dataframe\">\n",
       "  <thead>\n",
       "    <tr style=\"text-align: right;\">\n",
       "      <th></th>\n",
       "      <th>TITLE</th>\n",
       "      <th>CATEGORY</th>\n",
       "    </tr>\n",
       "  </thead>\n",
       "  <tbody>\n",
       "    <tr>\n",
       "      <td>0</td>\n",
       "      <td>Paul Mazursky, director of Bob &amp; Carol &amp; Ted &amp;...</td>\n",
       "      <td>e</td>\n",
       "    </tr>\n",
       "    <tr>\n",
       "      <td>1</td>\n",
       "      <td>Celebrate the return of 'Game of Thrones' with...</td>\n",
       "      <td>e</td>\n",
       "    </tr>\n",
       "    <tr>\n",
       "      <td>2</td>\n",
       "      <td>Solange Lands Lucky Cover; Addresses Elevator ...</td>\n",
       "      <td>e</td>\n",
       "    </tr>\n",
       "    <tr>\n",
       "      <td>3</td>\n",
       "      <td>Lindsay Lohan Flaunts Beach Bod, Wears Sexy Bl...</td>\n",
       "      <td>e</td>\n",
       "    </tr>\n",
       "    <tr>\n",
       "      <td>4</td>\n",
       "      <td>You're The Boss: Girl Scouts, LeanIn Vow To Ba...</td>\n",
       "      <td>e</td>\n",
       "    </tr>\n",
       "    <tr>\n",
       "      <td>...</td>\n",
       "      <td>...</td>\n",
       "      <td>...</td>\n",
       "    </tr>\n",
       "    <tr>\n",
       "      <td>422414</td>\n",
       "      <td>Stroke Rounds: Pre-Hypertensives at Greater Ri...</td>\n",
       "      <td>m</td>\n",
       "    </tr>\n",
       "    <tr>\n",
       "      <td>422415</td>\n",
       "      <td>Melanoma Skin Cancer Cases Spike</td>\n",
       "      <td>m</td>\n",
       "    </tr>\n",
       "    <tr>\n",
       "      <td>422416</td>\n",
       "      <td>Winnebago County begins West Nile virus season...</td>\n",
       "      <td>m</td>\n",
       "    </tr>\n",
       "    <tr>\n",
       "      <td>422417</td>\n",
       "      <td>World Health Organization says 147 people have...</td>\n",
       "      <td>m</td>\n",
       "    </tr>\n",
       "    <tr>\n",
       "      <td>422418</td>\n",
       "      <td>Young blood proven good for old brain</td>\n",
       "      <td>m</td>\n",
       "    </tr>\n",
       "  </tbody>\n",
       "</table>\n",
       "<p>422419 rows × 2 columns</p>\n",
       "</div>"
      ],
      "text/plain": [
       "                                                    TITLE CATEGORY\n",
       "0       Paul Mazursky, director of Bob & Carol & Ted &...        e\n",
       "1       Celebrate the return of 'Game of Thrones' with...        e\n",
       "2       Solange Lands Lucky Cover; Addresses Elevator ...        e\n",
       "3       Lindsay Lohan Flaunts Beach Bod, Wears Sexy Bl...        e\n",
       "4       You're The Boss: Girl Scouts, LeanIn Vow To Ba...        e\n",
       "...                                                   ...      ...\n",
       "422414  Stroke Rounds: Pre-Hypertensives at Greater Ri...        m\n",
       "422415                   Melanoma Skin Cancer Cases Spike        m\n",
       "422416  Winnebago County begins West Nile virus season...        m\n",
       "422417  World Health Organization says 147 people have...        m\n",
       "422418              Young blood proven good for old brain        m\n",
       "\n",
       "[422419 rows x 2 columns]"
      ]
     },
     "execution_count": 10,
     "metadata": {},
     "output_type": "execute_result"
    }
   ],
   "source": [
    "concated"
   ]
  },
  {
   "cell_type": "code",
   "execution_count": 11,
   "metadata": {},
   "outputs": [],
   "source": [
    "concated['LABEL'] = 0"
   ]
  },
  {
   "cell_type": "code",
   "execution_count": 12,
   "metadata": {},
   "outputs": [],
   "source": [
    "concated.loc[concated['CATEGORY'] == 'e', 'LABEL'] = 0\n",
    "concated.loc[concated['CATEGORY'] == 'b', 'LABEL'] = 1\n",
    "concated.loc[concated['CATEGORY'] == 't', 'LABEL'] = 2\n",
    "concated.loc[concated['CATEGORY'] == 'm', 'LABEL'] = 3"
   ]
  },
  {
   "cell_type": "code",
   "execution_count": 13,
   "metadata": {},
   "outputs": [],
   "source": [
    "concated = concated.reindex(np.random.permutation(concated.index))"
   ]
  },
  {
   "cell_type": "code",
   "execution_count": 14,
   "metadata": {},
   "outputs": [
    {
     "data": {
      "text/plain": [
       "359004    2\n",
       "90474     0\n",
       "392609    3\n",
       "143914    0\n",
       "288112    2\n",
       "346156    2\n",
       "358152    2\n",
       "163396    1\n",
       "66513     0\n",
       "338916    2\n",
       "Name: LABEL, dtype: int64"
      ]
     },
     "execution_count": 14,
     "metadata": {},
     "output_type": "execute_result"
    }
   ],
   "source": [
    "concated['LABEL'][:10]"
   ]
  },
  {
   "cell_type": "code",
   "execution_count": 15,
   "metadata": {},
   "outputs": [],
   "source": [
    "# one-hot encoding\n",
    "labels = to_categorical(concated['LABEL'], num_classes=4)"
   ]
  },
  {
   "cell_type": "code",
   "execution_count": 16,
   "metadata": {},
   "outputs": [
    {
     "data": {
      "text/plain": [
       "array([[0., 0., 1., 0.],\n",
       "       [1., 0., 0., 0.],\n",
       "       [0., 0., 0., 1.],\n",
       "       [1., 0., 0., 0.],\n",
       "       [0., 0., 1., 0.],\n",
       "       [0., 0., 1., 0.],\n",
       "       [0., 0., 1., 0.],\n",
       "       [0., 1., 0., 0.],\n",
       "       [1., 0., 0., 0.],\n",
       "       [0., 0., 1., 0.]], dtype=float32)"
      ]
     },
     "execution_count": 16,
     "metadata": {},
     "output_type": "execute_result"
    }
   ],
   "source": [
    "labels[:10]"
   ]
  },
  {
   "cell_type": "markdown",
   "metadata": {},
   "source": [
    "# Construct Train & Test Dataset"
   ]
  },
  {
   "cell_type": "markdown",
   "metadata": {},
   "source": [
    "- Embedding parameters (frequency & padding size)"
   ]
  },
  {
   "cell_type": "code",
   "execution_count": 17,
   "metadata": {},
   "outputs": [],
   "source": [
    "most_common_alphabets = 80\n",
    "most_common_words = 11000\n",
    "char_max_len = 80\n",
    "word_max_len = 80"
   ]
  },
  {
   "cell_type": "markdown",
   "metadata": {},
   "source": [
    "- Character tokenizer"
   ]
  },
  {
   "cell_type": "code",
   "execution_count": 18,
   "metadata": {},
   "outputs": [],
   "source": [
    "tokenizer_char = Tokenizer(num_words=most_common_alphabets, char_level=True, filters='!\"#$%&()*+,-./:;<=>?@[\\]^_`{|}~', lower=True)"
   ]
  },
  {
   "cell_type": "code",
   "execution_count": 19,
   "metadata": {},
   "outputs": [],
   "source": [
    "tokenizer_char.fit_on_texts(concated['TITLE'].values)"
   ]
  },
  {
   "cell_type": "code",
   "execution_count": 20,
   "metadata": {},
   "outputs": [],
   "source": [
    "sequences_char = tokenizer_char.texts_to_sequences(concated['TITLE'].values)"
   ]
  },
  {
   "cell_type": "code",
   "execution_count": 21,
   "metadata": {},
   "outputs": [
    {
     "data": {
      "text/plain": [
       "[[18,\n",
       "  2,\n",
       "  12,\n",
       "  4,\n",
       "  1,\n",
       "  11,\n",
       "  10,\n",
       "  3,\n",
       "  7,\n",
       "  14,\n",
       "  1,\n",
       "  6,\n",
       "  28,\n",
       "  14,\n",
       "  5,\n",
       "  19,\n",
       "  7,\n",
       "  10,\n",
       "  2,\n",
       "  1,\n",
       "  19,\n",
       "  7,\n",
       "  10,\n",
       "  22,\n",
       "  2,\n",
       "  12,\n",
       "  1,\n",
       "  13,\n",
       "  15,\n",
       "  9,\n",
       "  12,\n",
       "  8,\n",
       "  2,\n",
       "  12,\n",
       "  4,\n",
       "  1,\n",
       "  5,\n",
       "  18,\n",
       "  1,\n",
       "  14,\n",
       "  7,\n",
       "  10,\n",
       "  10,\n",
       "  7,\n",
       "  5,\n",
       "  9,\n",
       "  4,\n",
       "  1,\n",
       "  6,\n",
       "  13,\n",
       "  8,\n",
       "  5,\n",
       "  15,\n",
       "  17,\n",
       "  13,\n",
       "  1,\n",
       "  25,\n",
       "  11,\n",
       "  8,\n",
       "  3,\n",
       "  14,\n",
       "  14,\n",
       "  7,\n",
       "  9,\n",
       "  17,\n",
       "  25],\n",
       " [11,\n",
       "  13,\n",
       "  8,\n",
       "  7,\n",
       "  4,\n",
       "  6,\n",
       "  7,\n",
       "  9,\n",
       "  2,\n",
       "  1,\n",
       "  14,\n",
       "  11,\n",
       "  23,\n",
       "  7,\n",
       "  2,\n",
       "  1,\n",
       "  8,\n",
       "  2,\n",
       "  30,\n",
       "  5,\n",
       "  7,\n",
       "  9,\n",
       "  4,\n",
       "  1,\n",
       "  18,\n",
       "  10,\n",
       "  2,\n",
       "  2,\n",
       "  6,\n",
       "  21,\n",
       "  5,\n",
       "  5,\n",
       "  12,\n",
       "  1,\n",
       "  14,\n",
       "  3,\n",
       "  11,\n",
       "  26,\n",
       "  1,\n",
       "  9,\n",
       "  24,\n",
       "  1,\n",
       "  3,\n",
       "  14,\n",
       "  2,\n",
       "  8,\n",
       "  7,\n",
       "  11,\n",
       "  3,\n",
       "  1,\n",
       "  6,\n",
       "  5,\n",
       "  15,\n",
       "  8,\n",
       "  1,\n",
       "  4,\n",
       "  2,\n",
       "  6]]"
      ]
     },
     "execution_count": 21,
     "metadata": {},
     "output_type": "execute_result"
    }
   ],
   "source": [
    "sequences_char[:2]"
   ]
  },
  {
   "cell_type": "markdown",
   "metadata": {},
   "source": [
    "- Word tokenizer"
   ]
  },
  {
   "cell_type": "code",
   "execution_count": 22,
   "metadata": {},
   "outputs": [],
   "source": [
    "tokenizer_word = Tokenizer(num_words=most_common_words, char_level=False, filters='!\"#$%&()*+,-./:;<=>?@[\\]^_`{|}~', lower=True)"
   ]
  },
  {
   "cell_type": "code",
   "execution_count": 23,
   "metadata": {},
   "outputs": [],
   "source": [
    "tokenizer_word.fit_on_texts(concated['TITLE'].values)"
   ]
  },
  {
   "cell_type": "code",
   "execution_count": 24,
   "metadata": {},
   "outputs": [],
   "source": [
    "sequences_word = tokenizer_word.texts_to_sequences(concated['TITLE'].values)"
   ]
  },
  {
   "cell_type": "code",
   "execution_count": 25,
   "metadata": {},
   "outputs": [
    {
     "data": {
      "text/plain": [
       "[[1593, 2274, 111, 146, 2437, 4, 902, 695, 10934],\n",
       " [3454, 5039, 10733, 3611, 1232, 1821, 223, 250, 128]]"
      ]
     },
     "execution_count": 25,
     "metadata": {},
     "output_type": "execute_result"
    }
   ],
   "source": [
    "sequences_word[:2]"
   ]
  },
  {
   "cell_type": "markdown",
   "metadata": {},
   "source": [
    "- Index"
   ]
  },
  {
   "cell_type": "code",
   "execution_count": 26,
   "metadata": {},
   "outputs": [],
   "source": [
    "word_index_char = tokenizer_char.word_index"
   ]
  },
  {
   "cell_type": "code",
   "execution_count": 27,
   "metadata": {},
   "outputs": [],
   "source": [
    "word_index_word = tokenizer_word.word_index"
   ]
  },
  {
   "cell_type": "code",
   "execution_count": 28,
   "metadata": {},
   "outputs": [],
   "source": [
    "# word_index_char"
   ]
  },
  {
   "cell_type": "code",
   "execution_count": 29,
   "metadata": {},
   "outputs": [],
   "source": [
    "# word_index_word"
   ]
  },
  {
   "cell_type": "markdown",
   "metadata": {},
   "source": [
    "- Padding"
   ]
  },
  {
   "cell_type": "code",
   "execution_count": 30,
   "metadata": {},
   "outputs": [],
   "source": [
    "X_char = pad_sequences(sequences_char, maxlen=char_max_len)"
   ]
  },
  {
   "cell_type": "code",
   "execution_count": 31,
   "metadata": {},
   "outputs": [],
   "source": [
    "X_word = pad_sequences(sequences_word, maxlen=word_max_len)"
   ]
  },
  {
   "cell_type": "code",
   "execution_count": 32,
   "metadata": {},
   "outputs": [
    {
     "name": "stdout",
     "output_type": "stream",
     "text": [
      "(422419, 80)\n",
      "(422419, 80)\n",
      "(422419, 4)\n"
     ]
    }
   ],
   "source": [
    "print(X_char.shape)\n",
    "print(X_word.shape)\n",
    "print(labels.shape)"
   ]
  },
  {
   "cell_type": "markdown",
   "metadata": {},
   "source": [
    "- Character-level train & test data"
   ]
  },
  {
   "cell_type": "code",
   "execution_count": 33,
   "metadata": {},
   "outputs": [],
   "source": [
    "X_train_char, X_test_char, y_train, y_test = train_test_split(X_char, labels, test_size=0.2, random_state=42)"
   ]
  },
  {
   "cell_type": "code",
   "execution_count": 34,
   "metadata": {},
   "outputs": [
    {
     "name": "stdout",
     "output_type": "stream",
     "text": [
      "((337935, 80), (337935, 4), (84484, 80), (84484, 4))\n"
     ]
    }
   ],
   "source": [
    "print((X_train_char.shape, y_train.shape, X_test_char.shape, y_test.shape))"
   ]
  },
  {
   "cell_type": "markdown",
   "metadata": {},
   "source": [
    "- Word-level train & test data"
   ]
  },
  {
   "cell_type": "code",
   "execution_count": 35,
   "metadata": {},
   "outputs": [],
   "source": [
    "X_train_word, X_test_word, y_train, y_test = train_test_split(X_word, labels, test_size=0.2, random_state=42)"
   ]
  },
  {
   "cell_type": "code",
   "execution_count": 36,
   "metadata": {},
   "outputs": [
    {
     "name": "stdout",
     "output_type": "stream",
     "text": [
      "((337935, 80), (337935, 4), (84484, 80), (84484, 4))\n"
     ]
    }
   ],
   "source": [
    "print((X_train_word.shape, y_train.shape, X_test_word.shape, y_test.shape))"
   ]
  },
  {
   "cell_type": "markdown",
   "metadata": {},
   "source": [
    "# Single Classifier (character-level)"
   ]
  },
  {
   "cell_type": "markdown",
   "metadata": {},
   "source": [
    "- Embedding parameter (embedding vector dimension)"
   ]
  },
  {
   "cell_type": "code",
   "execution_count": 37,
   "metadata": {},
   "outputs": [],
   "source": [
    "char_emb_dim = 128"
   ]
  },
  {
   "cell_type": "code",
   "execution_count": 38,
   "metadata": {},
   "outputs": [],
   "source": [
    "def get_char_model():\n",
    "    inp = Input(shape=(char_max_len,))\n",
    "    emb = Embedding(most_common_alphabets, char_emb_dim, input_length=char_max_len)(inp)\n",
    "    _ = Dropout(rate=0.7)(emb)\n",
    "    _ = Conv1D(256, 3, padding='valid', activation='selu', strides=1)(_)\n",
    "    _ = MaxPooling1D()(_)\n",
    "    _ = Conv1D(128, 3, padding='valid', activation='selu', strides=1)(_)\n",
    "    _ = GlobalMaxPooling1D()(_)\n",
    "    _ = Dense(64, activation='selu')(_)\n",
    "    _ = Dropout(rate=0.7)(_)\n",
    "    out = Dense(4, activation='softmax')(_)\n",
    "    \n",
    "    return Model(inp, out)"
   ]
  },
  {
   "cell_type": "code",
   "execution_count": 39,
   "metadata": {},
   "outputs": [
    {
     "name": "stdout",
     "output_type": "stream",
     "text": [
      "WARNING:tensorflow:From /home/taeyong/anaconda3/lib/python3.7/site-packages/tensorflow_core/python/keras/initializers.py:119: calling RandomUniform.__init__ (from tensorflow.python.ops.init_ops) with dtype is deprecated and will be removed in a future version.\n",
      "Instructions for updating:\n",
      "Call initializer instance with the dtype argument instead of passing it to the constructor\n",
      "WARNING:tensorflow:From /home/taeyong/anaconda3/lib/python3.7/site-packages/tensorflow_core/python/ops/resource_variable_ops.py:1630: calling BaseResourceVariable.__init__ (from tensorflow.python.ops.resource_variable_ops) with constraint is deprecated and will be removed in a future version.\n",
      "Instructions for updating:\n",
      "If using Keras pass *_constraint arguments to layers.\n",
      "WARNING:tensorflow:Large dropout rate: 0.7 (>0.5). In TensorFlow 2.x, dropout() uses dropout rate instead of keep_prob. Please ensure that this is intended.\n",
      "WARNING:tensorflow:From /home/taeyong/anaconda3/lib/python3.7/site-packages/tensorflow_core/python/keras/backend.py:4277: where (from tensorflow.python.ops.array_ops) is deprecated and will be removed in a future version.\n",
      "Instructions for updating:\n",
      "Use tf.where in 2.0, which has the same broadcast rule as np.where\n",
      "WARNING:tensorflow:Large dropout rate: 0.7 (>0.5). In TensorFlow 2.x, dropout() uses dropout rate instead of keep_prob. Please ensure that this is intended.\n"
     ]
    }
   ],
   "source": [
    "char_model = get_char_model()"
   ]
  },
  {
   "cell_type": "code",
   "execution_count": 40,
   "metadata": {},
   "outputs": [
    {
     "name": "stdout",
     "output_type": "stream",
     "text": [
      "Model: \"model\"\n",
      "_________________________________________________________________\n",
      "Layer (type)                 Output Shape              Param #   \n",
      "=================================================================\n",
      "input_1 (InputLayer)         [(None, 80)]              0         \n",
      "_________________________________________________________________\n",
      "embedding (Embedding)        (None, 80, 128)           10240     \n",
      "_________________________________________________________________\n",
      "dropout (Dropout)            (None, 80, 128)           0         \n",
      "_________________________________________________________________\n",
      "conv1d (Conv1D)              (None, 78, 256)           98560     \n",
      "_________________________________________________________________\n",
      "max_pooling1d (MaxPooling1D) (None, 39, 256)           0         \n",
      "_________________________________________________________________\n",
      "conv1d_1 (Conv1D)            (None, 37, 128)           98432     \n",
      "_________________________________________________________________\n",
      "global_max_pooling1d (Global (None, 128)               0         \n",
      "_________________________________________________________________\n",
      "dense (Dense)                (None, 64)                8256      \n",
      "_________________________________________________________________\n",
      "dropout_1 (Dropout)          (None, 64)                0         \n",
      "_________________________________________________________________\n",
      "dense_1 (Dense)              (None, 4)                 260       \n",
      "=================================================================\n",
      "Total params: 215,748\n",
      "Trainable params: 215,748\n",
      "Non-trainable params: 0\n",
      "_________________________________________________________________\n"
     ]
    }
   ],
   "source": [
    "char_model.summary()"
   ]
  },
  {
   "cell_type": "markdown",
   "metadata": {},
   "source": [
    "- Train parameter"
   ]
  },
  {
   "cell_type": "code",
   "execution_count": 41,
   "metadata": {},
   "outputs": [],
   "source": [
    "epochs = 50\n",
    "batch_size = 256\n",
    "learning_rate = 0.001\n",
    "decay = 1e-06"
   ]
  },
  {
   "cell_type": "markdown",
   "metadata": {},
   "source": [
    "- Compile"
   ]
  },
  {
   "cell_type": "code",
   "execution_count": 42,
   "metadata": {},
   "outputs": [],
   "source": [
    "char_model.compile(optimizer = Adam(lr = learning_rate, decay = decay), loss='categorical_crossentropy', metrics=['acc'])"
   ]
  },
  {
   "cell_type": "markdown",
   "metadata": {},
   "source": [
    "- Train"
   ]
  },
  {
   "cell_type": "code",
   "execution_count": 43,
   "metadata": {
    "scrolled": true
   },
   "outputs": [
    {
     "name": "stdout",
     "output_type": "stream",
     "text": [
      "Train on 337935 samples, validate on 84484 samples\n",
      "Epoch 1/50\n",
      "337935/337935 [==============================] - 25s 74us/sample - loss: 0.9632 - acc: 0.6058 - val_loss: 0.6001 - val_acc: 0.7774\n",
      "Epoch 2/50\n",
      "337935/337935 [==============================] - 25s 74us/sample - loss: 0.6996 - acc: 0.7398 - val_loss: 0.4913 - val_acc: 0.8215\n",
      "Epoch 3/50\n",
      "337935/337935 [==============================] - 26s 76us/sample - loss: 0.6106 - acc: 0.7783 - val_loss: 0.4346 - val_acc: 0.8422\n",
      "Epoch 4/50\n",
      "337935/337935 [==============================] - 26s 75us/sample - loss: 0.5640 - acc: 0.7981 - val_loss: 0.4181 - val_acc: 0.8501\n",
      "Epoch 5/50\n",
      "337935/337935 [==============================] - 26s 76us/sample - loss: 0.5321 - acc: 0.8115 - val_loss: 0.3814 - val_acc: 0.8635\n",
      "Epoch 6/50\n",
      "337935/337935 [==============================] - 26s 76us/sample - loss: 0.5060 - acc: 0.8219 - val_loss: 0.3705 - val_acc: 0.8674\n",
      "Epoch 7/50\n",
      "337935/337935 [==============================] - 25s 75us/sample - loss: 0.4896 - acc: 0.8284 - val_loss: 0.3517 - val_acc: 0.8765\n",
      "Epoch 8/50\n",
      "337935/337935 [==============================] - 25s 75us/sample - loss: 0.4754 - acc: 0.8336 - val_loss: 0.3457 - val_acc: 0.8779\n",
      "Epoch 9/50\n",
      "337935/337935 [==============================] - 25s 75us/sample - loss: 0.4602 - acc: 0.8391 - val_loss: 0.3457 - val_acc: 0.8792\n",
      "Epoch 10/50\n",
      "337935/337935 [==============================] - 26s 76us/sample - loss: 0.4514 - acc: 0.8427 - val_loss: 0.3396 - val_acc: 0.8801\n",
      "Epoch 11/50\n",
      "337935/337935 [==============================] - 25s 75us/sample - loss: 0.4432 - acc: 0.8462 - val_loss: 0.3295 - val_acc: 0.8858\n",
      "Epoch 12/50\n",
      "337935/337935 [==============================] - 26s 76us/sample - loss: 0.4343 - acc: 0.8486 - val_loss: 0.3211 - val_acc: 0.8897\n",
      "Epoch 13/50\n",
      "337935/337935 [==============================] - 25s 75us/sample - loss: 0.4217 - acc: 0.8535 - val_loss: 0.3157 - val_acc: 0.8911\n",
      "Epoch 14/50\n",
      "337935/337935 [==============================] - 26s 76us/sample - loss: 0.4146 - acc: 0.8558 - val_loss: 0.3054 - val_acc: 0.8930\n",
      "Epoch 15/50\n",
      "337935/337935 [==============================] - 26s 76us/sample - loss: 0.4067 - acc: 0.8588 - val_loss: 0.3080 - val_acc: 0.8929\n",
      "Epoch 16/50\n",
      "337935/337935 [==============================] - 25s 75us/sample - loss: 0.3999 - acc: 0.8613 - val_loss: 0.3016 - val_acc: 0.8957\n",
      "Epoch 17/50\n",
      "337935/337935 [==============================] - 25s 75us/sample - loss: 0.3946 - acc: 0.8639 - val_loss: 0.2967 - val_acc: 0.8963\n",
      "Epoch 18/50\n",
      "337935/337935 [==============================] - 26s 76us/sample - loss: 0.3912 - acc: 0.8652 - val_loss: 0.3012 - val_acc: 0.8988\n",
      "Epoch 19/50\n",
      "337935/337935 [==============================] - 26s 76us/sample - loss: 0.3879 - acc: 0.8660 - val_loss: 0.2934 - val_acc: 0.9010\n",
      "Epoch 20/50\n",
      "337935/337935 [==============================] - 26s 76us/sample - loss: 0.3844 - acc: 0.8676 - val_loss: 0.2951 - val_acc: 0.8981\n",
      "Epoch 21/50\n",
      "337935/337935 [==============================] - 25s 75us/sample - loss: 0.3799 - acc: 0.8687 - val_loss: 0.2890 - val_acc: 0.9022\n",
      "Epoch 22/50\n",
      "337935/337935 [==============================] - 26s 76us/sample - loss: 0.3752 - acc: 0.8707 - val_loss: 0.2796 - val_acc: 0.9038\n",
      "Epoch 23/50\n",
      "337935/337935 [==============================] - 26s 76us/sample - loss: 0.3731 - acc: 0.8714 - val_loss: 0.2828 - val_acc: 0.9035\n",
      "Epoch 24/50\n",
      "337935/337935 [==============================] - 26s 76us/sample - loss: 0.3686 - acc: 0.8730 - val_loss: 0.2825 - val_acc: 0.9050\n",
      "Epoch 25/50\n",
      "337935/337935 [==============================] - 25s 75us/sample - loss: 0.3645 - acc: 0.8742 - val_loss: 0.2794 - val_acc: 0.9053\n",
      "Epoch 26/50\n",
      "337935/337935 [==============================] - 26s 75us/sample - loss: 0.3622 - acc: 0.8750 - val_loss: 0.2759 - val_acc: 0.9057\n",
      "Epoch 27/50\n",
      "337935/337935 [==============================] - 26s 76us/sample - loss: 0.3606 - acc: 0.8757 - val_loss: 0.2762 - val_acc: 0.9070\n",
      "Epoch 28/50\n",
      "337935/337935 [==============================] - 26s 76us/sample - loss: 0.3580 - acc: 0.8768 - val_loss: 0.2746 - val_acc: 0.9062\n",
      "Epoch 29/50\n",
      "337935/337935 [==============================] - 25s 75us/sample - loss: 0.3560 - acc: 0.8773 - val_loss: 0.2726 - val_acc: 0.9077\n",
      "Epoch 30/50\n",
      "337935/337935 [==============================] - 26s 76us/sample - loss: 0.3525 - acc: 0.8787 - val_loss: 0.2741 - val_acc: 0.9082\n",
      "Epoch 31/50\n",
      "337935/337935 [==============================] - 26s 76us/sample - loss: 0.3509 - acc: 0.8791 - val_loss: 0.2770 - val_acc: 0.9077\n",
      "Epoch 32/50\n",
      "337935/337935 [==============================] - 26s 76us/sample - loss: 0.3504 - acc: 0.8792 - val_loss: 0.2696 - val_acc: 0.9097\n",
      "Epoch 33/50\n",
      "337935/337935 [==============================] - 25s 75us/sample - loss: 0.3475 - acc: 0.8808 - val_loss: 0.2755 - val_acc: 0.9086\n",
      "Epoch 34/50\n",
      "337935/337935 [==============================] - 25s 75us/sample - loss: 0.3454 - acc: 0.8810 - val_loss: 0.2772 - val_acc: 0.9073\n",
      "Epoch 35/50\n",
      "337935/337935 [==============================] - 26s 76us/sample - loss: 0.3445 - acc: 0.8817 - val_loss: 0.2691 - val_acc: 0.9101\n",
      "Epoch 36/50\n",
      "337935/337935 [==============================] - 25s 75us/sample - loss: 0.3423 - acc: 0.8830 - val_loss: 0.2659 - val_acc: 0.9102\n",
      "Epoch 37/50\n",
      "337935/337935 [==============================] - 25s 75us/sample - loss: 0.3397 - acc: 0.8827 - val_loss: 0.2657 - val_acc: 0.9107\n",
      "Epoch 38/50\n",
      "337935/337935 [==============================] - 25s 75us/sample - loss: 0.3394 - acc: 0.8828 - val_loss: 0.2642 - val_acc: 0.9107\n",
      "Epoch 39/50\n",
      "337935/337935 [==============================] - 25s 75us/sample - loss: 0.3373 - acc: 0.8837 - val_loss: 0.2723 - val_acc: 0.9118\n",
      "Epoch 40/50\n",
      "337935/337935 [==============================] - 25s 75us/sample - loss: 0.3345 - acc: 0.8847 - val_loss: 0.2610 - val_acc: 0.9118\n",
      "Epoch 41/50\n",
      "337935/337935 [==============================] - 25s 75us/sample - loss: 0.3348 - acc: 0.8852 - val_loss: 0.2673 - val_acc: 0.9112\n",
      "Epoch 42/50\n",
      "337935/337935 [==============================] - 25s 75us/sample - loss: 0.3336 - acc: 0.8853 - val_loss: 0.2683 - val_acc: 0.9115\n",
      "Epoch 43/50\n",
      "337935/337935 [==============================] - 25s 75us/sample - loss: 0.3310 - acc: 0.8857 - val_loss: 0.2598 - val_acc: 0.9122\n",
      "Epoch 44/50\n",
      "337935/337935 [==============================] - 25s 75us/sample - loss: 0.3299 - acc: 0.8864 - val_loss: 0.2597 - val_acc: 0.9125\n",
      "Epoch 45/50\n",
      "337935/337935 [==============================] - 25s 75us/sample - loss: 0.3279 - acc: 0.8875 - val_loss: 0.2580 - val_acc: 0.9128\n",
      "Epoch 46/50\n",
      "337935/337935 [==============================] - 26s 76us/sample - loss: 0.3272 - acc: 0.8878 - val_loss: 0.2594 - val_acc: 0.9139\n",
      "Epoch 47/50\n",
      "337935/337935 [==============================] - 25s 75us/sample - loss: 0.3268 - acc: 0.8874 - val_loss: 0.2600 - val_acc: 0.9125\n",
      "Epoch 48/50\n",
      "337935/337935 [==============================] - 25s 75us/sample - loss: 0.3248 - acc: 0.8889 - val_loss: 0.2572 - val_acc: 0.9136\n",
      "Epoch 49/50\n",
      "337935/337935 [==============================] - 25s 75us/sample - loss: 0.3242 - acc: 0.8890 - val_loss: 0.2592 - val_acc: 0.9140\n",
      "Epoch 50/50\n",
      "337935/337935 [==============================] - 26s 76us/sample - loss: 0.3216 - acc: 0.8893 - val_loss: 0.2527 - val_acc: 0.9149\n"
     ]
    }
   ],
   "source": [
    "char_model_history = char_model.fit(X_train_char, y_train, epochs=epochs, batch_size=batch_size, validation_data=(X_test_char, y_test), callbacks=[EarlyStopping(monitor='val_loss',patience=7, min_delta=0.0001)])"
   ]
  },
  {
   "cell_type": "markdown",
   "metadata": {},
   "source": [
    "- Save"
   ]
  },
  {
   "cell_type": "code",
   "execution_count": 44,
   "metadata": {},
   "outputs": [],
   "source": [
    "char_model.save('char-level_model.h5')"
   ]
  },
  {
   "cell_type": "markdown",
   "metadata": {},
   "source": [
    "# Single Classifier (word-level)"
   ]
  },
  {
   "cell_type": "markdown",
   "metadata": {},
   "source": [
    "- Embedding parameter (embedding vector dimension)"
   ]
  },
  {
   "cell_type": "code",
   "execution_count": 45,
   "metadata": {},
   "outputs": [],
   "source": [
    "word_emb_dim = 128"
   ]
  },
  {
   "cell_type": "code",
   "execution_count": 46,
   "metadata": {},
   "outputs": [],
   "source": [
    "def get_word_model():\n",
    "    inp = Input(shape=(word_max_len,))\n",
    "    emb = Embedding(most_common_words, word_emb_dim, input_length=word_max_len)(inp)\n",
    "    _ = Dropout(rate=0.7)(emb)\n",
    "    _ = Conv1D(256, 3, padding='valid', activation='selu', strides=1)(_)\n",
    "    _ = MaxPooling1D()(_)\n",
    "    _ = Conv1D(128, 3, padding='valid', activation='selu', strides=1)(_)\n",
    "    _ = GlobalMaxPooling1D()(_)\n",
    "    _ = Dense(64, activation='selu')(_)\n",
    "    _ = Dropout(rate=0.7)(_)\n",
    "    out = Dense(4, activation='softmax')(_)\n",
    "    \n",
    "    return Model(inp, out)"
   ]
  },
  {
   "cell_type": "code",
   "execution_count": 47,
   "metadata": {},
   "outputs": [
    {
     "name": "stdout",
     "output_type": "stream",
     "text": [
      "WARNING:tensorflow:Large dropout rate: 0.7 (>0.5). In TensorFlow 2.x, dropout() uses dropout rate instead of keep_prob. Please ensure that this is intended.\n",
      "WARNING:tensorflow:Large dropout rate: 0.7 (>0.5). In TensorFlow 2.x, dropout() uses dropout rate instead of keep_prob. Please ensure that this is intended.\n"
     ]
    }
   ],
   "source": [
    "word_model = get_word_model()"
   ]
  },
  {
   "cell_type": "code",
   "execution_count": 48,
   "metadata": {},
   "outputs": [
    {
     "name": "stdout",
     "output_type": "stream",
     "text": [
      "Model: \"model_1\"\n",
      "_________________________________________________________________\n",
      "Layer (type)                 Output Shape              Param #   \n",
      "=================================================================\n",
      "input_2 (InputLayer)         [(None, 80)]              0         \n",
      "_________________________________________________________________\n",
      "embedding_1 (Embedding)      (None, 80, 128)           1408000   \n",
      "_________________________________________________________________\n",
      "dropout_2 (Dropout)          (None, 80, 128)           0         \n",
      "_________________________________________________________________\n",
      "conv1d_2 (Conv1D)            (None, 78, 256)           98560     \n",
      "_________________________________________________________________\n",
      "max_pooling1d_1 (MaxPooling1 (None, 39, 256)           0         \n",
      "_________________________________________________________________\n",
      "conv1d_3 (Conv1D)            (None, 37, 128)           98432     \n",
      "_________________________________________________________________\n",
      "global_max_pooling1d_1 (Glob (None, 128)               0         \n",
      "_________________________________________________________________\n",
      "dense_2 (Dense)              (None, 64)                8256      \n",
      "_________________________________________________________________\n",
      "dropout_3 (Dropout)          (None, 64)                0         \n",
      "_________________________________________________________________\n",
      "dense_3 (Dense)              (None, 4)                 260       \n",
      "=================================================================\n",
      "Total params: 1,613,508\n",
      "Trainable params: 1,613,508\n",
      "Non-trainable params: 0\n",
      "_________________________________________________________________\n"
     ]
    }
   ],
   "source": [
    "word_model.summary()"
   ]
  },
  {
   "cell_type": "markdown",
   "metadata": {},
   "source": [
    "- Train parameter"
   ]
  },
  {
   "cell_type": "code",
   "execution_count": 49,
   "metadata": {},
   "outputs": [],
   "source": [
    "epochs = 50\n",
    "batch_size = 256\n",
    "learning_rate = 0.001\n",
    "decay = 1e-06"
   ]
  },
  {
   "cell_type": "markdown",
   "metadata": {},
   "source": [
    "- Compile"
   ]
  },
  {
   "cell_type": "code",
   "execution_count": 50,
   "metadata": {},
   "outputs": [],
   "source": [
    "word_model.compile(optimizer = Adam(lr = learning_rate, decay = decay), loss='categorical_crossentropy', metrics=['acc'])"
   ]
  },
  {
   "cell_type": "markdown",
   "metadata": {},
   "source": [
    "- Train"
   ]
  },
  {
   "cell_type": "code",
   "execution_count": 51,
   "metadata": {
    "scrolled": true
   },
   "outputs": [
    {
     "name": "stdout",
     "output_type": "stream",
     "text": [
      "Train on 337935 samples, validate on 84484 samples\n",
      "Epoch 1/50\n",
      "337935/337935 [==============================] - 28s 83us/sample - loss: 0.3747 - acc: 0.8637 - val_loss: 0.1956 - val_acc: 0.9336\n",
      "Epoch 2/50\n",
      "337935/337935 [==============================] - 28s 82us/sample - loss: 0.2161 - acc: 0.9296 - val_loss: 0.1809 - val_acc: 0.9378\n",
      "Epoch 3/50\n",
      "337935/337935 [==============================] - 28s 82us/sample - loss: 0.1962 - acc: 0.9350 - val_loss: 0.1787 - val_acc: 0.9396\n",
      "Epoch 4/50\n",
      "337935/337935 [==============================] - 28s 82us/sample - loss: 0.1859 - acc: 0.9383 - val_loss: 0.1828 - val_acc: 0.9393\n",
      "Epoch 5/50\n",
      "337935/337935 [==============================] - 28s 82us/sample - loss: 0.1773 - acc: 0.9409 - val_loss: 0.1774 - val_acc: 0.9401\n",
      "Epoch 6/50\n",
      "337935/337935 [==============================] - 28s 82us/sample - loss: 0.1712 - acc: 0.9430 - val_loss: 0.1747 - val_acc: 0.9417\n",
      "Epoch 7/50\n",
      "337935/337935 [==============================] - 28s 82us/sample - loss: 0.1654 - acc: 0.9450 - val_loss: 0.1763 - val_acc: 0.9419\n",
      "Epoch 8/50\n",
      "337935/337935 [==============================] - 28s 82us/sample - loss: 0.1608 - acc: 0.9463 - val_loss: 0.1805 - val_acc: 0.9415\n",
      "Epoch 9/50\n",
      "337935/337935 [==============================] - 28s 82us/sample - loss: 0.1563 - acc: 0.9476 - val_loss: 0.1745 - val_acc: 0.9422\n",
      "Epoch 10/50\n",
      "337935/337935 [==============================] - 28s 82us/sample - loss: 0.1523 - acc: 0.9487 - val_loss: 0.1768 - val_acc: 0.9415\n",
      "Epoch 11/50\n",
      "337935/337935 [==============================] - 28s 81us/sample - loss: 0.1478 - acc: 0.9500 - val_loss: 0.1790 - val_acc: 0.9415\n",
      "Epoch 12/50\n",
      "337935/337935 [==============================] - 28s 82us/sample - loss: 0.1451 - acc: 0.9505 - val_loss: 0.1746 - val_acc: 0.9424\n",
      "Epoch 13/50\n",
      "337935/337935 [==============================] - 28s 82us/sample - loss: 0.1421 - acc: 0.9518 - val_loss: 0.1811 - val_acc: 0.9426\n",
      "Epoch 14/50\n",
      "337935/337935 [==============================] - 28s 82us/sample - loss: 0.1389 - acc: 0.9529 - val_loss: 0.1816 - val_acc: 0.9421\n",
      "Epoch 15/50\n",
      "337935/337935 [==============================] - 28s 81us/sample - loss: 0.1373 - acc: 0.9535 - val_loss: 0.1858 - val_acc: 0.9432\n",
      "Epoch 16/50\n",
      "337935/337935 [==============================] - 28s 82us/sample - loss: 0.1342 - acc: 0.9540 - val_loss: 0.1835 - val_acc: 0.9433\n"
     ]
    }
   ],
   "source": [
    "word_model_history = word_model.fit(X_train_word, y_train, epochs=epochs, batch_size=batch_size, validation_data=(X_test_word, y_test), callbacks=[EarlyStopping(monitor='val_loss',patience=7, min_delta=0.0001)])"
   ]
  },
  {
   "cell_type": "markdown",
   "metadata": {},
   "source": [
    "- Save"
   ]
  },
  {
   "cell_type": "code",
   "execution_count": 52,
   "metadata": {},
   "outputs": [],
   "source": [
    "word_model.save('word-level_model.h5')"
   ]
  },
  {
   "cell_type": "markdown",
   "metadata": {},
   "source": [
    "# Strong Combination Mixture-of-experts (ME) Model"
   ]
  },
  {
   "cell_type": "markdown",
   "metadata": {},
   "source": [
    "- Load model"
   ]
  },
  {
   "cell_type": "code",
   "execution_count": 53,
   "metadata": {},
   "outputs": [
    {
     "name": "stdout",
     "output_type": "stream",
     "text": [
      "WARNING:tensorflow:From /home/taeyong/anaconda3/lib/python3.7/site-packages/tensorflow_core/python/ops/init_ops.py:97: calling GlorotUniform.__init__ (from tensorflow.python.ops.init_ops) with dtype is deprecated and will be removed in a future version.\n",
      "Instructions for updating:\n",
      "Call initializer instance with the dtype argument instead of passing it to the constructor\n",
      "WARNING:tensorflow:From /home/taeyong/anaconda3/lib/python3.7/site-packages/tensorflow_core/python/ops/init_ops.py:97: calling Zeros.__init__ (from tensorflow.python.ops.init_ops) with dtype is deprecated and will be removed in a future version.\n",
      "Instructions for updating:\n",
      "Call initializer instance with the dtype argument instead of passing it to the constructor\n",
      "WARNING:tensorflow:Large dropout rate: 0.7 (>0.5). In TensorFlow 2.x, dropout() uses dropout rate instead of keep_prob. Please ensure that this is intended.\n"
     ]
    }
   ],
   "source": [
    "load_char_model = load_model('char-level_model.h5')"
   ]
  },
  {
   "cell_type": "code",
   "execution_count": 54,
   "metadata": {},
   "outputs": [
    {
     "name": "stdout",
     "output_type": "stream",
     "text": [
      "Model: \"model\"\n",
      "_________________________________________________________________\n",
      "Layer (type)                 Output Shape              Param #   \n",
      "=================================================================\n",
      "input_1 (InputLayer)         [(None, 80)]              0         \n",
      "_________________________________________________________________\n",
      "embedding (Embedding)        (None, 80, 128)           10240     \n",
      "_________________________________________________________________\n",
      "dropout (Dropout)            (None, 80, 128)           0         \n",
      "_________________________________________________________________\n",
      "conv1d (Conv1D)              (None, 78, 256)           98560     \n",
      "_________________________________________________________________\n",
      "max_pooling1d (MaxPooling1D) (None, 39, 256)           0         \n",
      "_________________________________________________________________\n",
      "conv1d_1 (Conv1D)            (None, 37, 128)           98432     \n",
      "_________________________________________________________________\n",
      "global_max_pooling1d (Global (None, 128)               0         \n",
      "_________________________________________________________________\n",
      "dense (Dense)                (None, 64)                8256      \n",
      "_________________________________________________________________\n",
      "dropout_1 (Dropout)          (None, 64)                0         \n",
      "_________________________________________________________________\n",
      "dense_1 (Dense)              (None, 4)                 260       \n",
      "=================================================================\n",
      "Total params: 215,748\n",
      "Trainable params: 215,748\n",
      "Non-trainable params: 0\n",
      "_________________________________________________________________\n"
     ]
    }
   ],
   "source": [
    "load_char_model.summary()"
   ]
  },
  {
   "cell_type": "code",
   "execution_count": 55,
   "metadata": {},
   "outputs": [],
   "source": [
    "load_word_model = load_model('word_model_conv1d_final.h5')"
   ]
  },
  {
   "cell_type": "code",
   "execution_count": 56,
   "metadata": {},
   "outputs": [
    {
     "name": "stdout",
     "output_type": "stream",
     "text": [
      "Model: \"model_3\"\n",
      "_________________________________________________________________\n",
      "Layer (type)                 Output Shape              Param #   \n",
      "=================================================================\n",
      "input_4 (InputLayer)         [(None, 80)]              0         \n",
      "_________________________________________________________________\n",
      "embedding_3 (Embedding)      (None, 80, 128)           1408000   \n",
      "_________________________________________________________________\n",
      "dropout_5 (Dropout)          (None, 80, 128)           0         \n",
      "_________________________________________________________________\n",
      "conv1d_5 (Conv1D)            (None, 78, 256)           98560     \n",
      "_________________________________________________________________\n",
      "max_pooling1d_3 (MaxPooling1 (None, 39, 256)           0         \n",
      "_________________________________________________________________\n",
      "conv1d_6 (Conv1D)            (None, 37, 128)           98432     \n",
      "_________________________________________________________________\n",
      "global_max_pooling1d_3 (Glob (None, 128)               0         \n",
      "_________________________________________________________________\n",
      "dense_5 (Dense)              (None, 64)                8256      \n",
      "_________________________________________________________________\n",
      "dropout_6 (Dropout)          (None, 64)                0         \n",
      "_________________________________________________________________\n",
      "dense_6 (Dense)              (None, 4)                 260       \n",
      "=================================================================\n",
      "Total params: 1,613,508\n",
      "Trainable params: 1,613,508\n",
      "Non-trainable params: 0\n",
      "_________________________________________________________________\n"
     ]
    }
   ],
   "source": [
    "load_word_model.summary()"
   ]
  },
  {
   "cell_type": "markdown",
   "metadata": {},
   "source": [
    "- Proposed ME (strong combination of each single model)"
   ]
  },
  {
   "cell_type": "code",
   "execution_count": 57,
   "metadata": {},
   "outputs": [],
   "source": [
    "def get_proposed_ME_model():\n",
    "    \n",
    "    concat_layer = concatenate([load_char_model.layers[-2].output, load_word_model.layers[-2].output], axis=-1)\n",
    "    \n",
    "    _ = Dense(64, activation='selu', name='gate_linear')(concat_layer)\n",
    "    _ = Dropout(0.8, name='gate_dropout')(_)\n",
    "\n",
    "    out = Dense(4, activation='softmax', name='SoftMax')(_)\n",
    "    \n",
    "    return Model([load_char_model.input,load_word_model.input], out)"
   ]
  },
  {
   "cell_type": "code",
   "execution_count": 58,
   "metadata": {},
   "outputs": [],
   "source": [
    "ME = get_proposed_ME_model()"
   ]
  },
  {
   "cell_type": "code",
   "execution_count": 59,
   "metadata": {},
   "outputs": [
    {
     "name": "stdout",
     "output_type": "stream",
     "text": [
      "Model: \"model_2\"\n",
      "__________________________________________________________________________________________________\n",
      "Layer (type)                    Output Shape         Param #     Connected to                     \n",
      "==================================================================================================\n",
      "input_1 (InputLayer)            [(None, 80)]         0                                            \n",
      "__________________________________________________________________________________________________\n",
      "input_4 (InputLayer)            [(None, 80)]         0                                            \n",
      "__________________________________________________________________________________________________\n",
      "embedding (Embedding)           (None, 80, 128)      10240       input_1[0][0]                    \n",
      "__________________________________________________________________________________________________\n",
      "embedding_3 (Embedding)         (None, 80, 128)      1408000     input_4[0][0]                    \n",
      "__________________________________________________________________________________________________\n",
      "dropout (Dropout)               (None, 80, 128)      0           embedding[0][0]                  \n",
      "__________________________________________________________________________________________________\n",
      "dropout_5 (Dropout)             (None, 80, 128)      0           embedding_3[0][0]                \n",
      "__________________________________________________________________________________________________\n",
      "conv1d (Conv1D)                 (None, 78, 256)      98560       dropout[0][0]                    \n",
      "__________________________________________________________________________________________________\n",
      "conv1d_5 (Conv1D)               (None, 78, 256)      98560       dropout_5[0][0]                  \n",
      "__________________________________________________________________________________________________\n",
      "max_pooling1d (MaxPooling1D)    (None, 39, 256)      0           conv1d[0][0]                     \n",
      "__________________________________________________________________________________________________\n",
      "max_pooling1d_3 (MaxPooling1D)  (None, 39, 256)      0           conv1d_5[0][0]                   \n",
      "__________________________________________________________________________________________________\n",
      "conv1d_1 (Conv1D)               (None, 37, 128)      98432       max_pooling1d[0][0]              \n",
      "__________________________________________________________________________________________________\n",
      "conv1d_6 (Conv1D)               (None, 37, 128)      98432       max_pooling1d_3[0][0]            \n",
      "__________________________________________________________________________________________________\n",
      "global_max_pooling1d (GlobalMax (None, 128)          0           conv1d_1[0][0]                   \n",
      "__________________________________________________________________________________________________\n",
      "global_max_pooling1d_3 (GlobalM (None, 128)          0           conv1d_6[0][0]                   \n",
      "__________________________________________________________________________________________________\n",
      "dense (Dense)                   (None, 64)           8256        global_max_pooling1d[0][0]       \n",
      "__________________________________________________________________________________________________\n",
      "dense_5 (Dense)                 (None, 64)           8256        global_max_pooling1d_3[0][0]     \n",
      "__________________________________________________________________________________________________\n",
      "dropout_1 (Dropout)             (None, 64)           0           dense[0][0]                      \n",
      "__________________________________________________________________________________________________\n",
      "dropout_6 (Dropout)             (None, 64)           0           dense_5[0][0]                    \n",
      "__________________________________________________________________________________________________\n",
      "tf_op_layer_concat (TensorFlowO [(None, 128)]        0           dropout_1[0][0]                  \n",
      "                                                                 dropout_6[0][0]                  \n",
      "__________________________________________________________________________________________________\n",
      "gate_linear (Dense)             (None, 64)           8256        tf_op_layer_concat[0][0]         \n",
      "__________________________________________________________________________________________________\n",
      "gate_dropout (Dropout)          (None, 64)           0           gate_linear[0][0]                \n",
      "__________________________________________________________________________________________________\n",
      "SoftMax (Dense)                 (None, 4)            260         gate_dropout[0][0]               \n",
      "==================================================================================================\n",
      "Total params: 1,837,252\n",
      "Trainable params: 1,837,252\n",
      "Non-trainable params: 0\n",
      "__________________________________________________________________________________________________\n"
     ]
    }
   ],
   "source": [
    "ME.summary()"
   ]
  },
  {
   "cell_type": "markdown",
   "metadata": {},
   "source": [
    "- Train parameter"
   ]
  },
  {
   "cell_type": "code",
   "execution_count": 60,
   "metadata": {},
   "outputs": [],
   "source": [
    "epochs = 20\n",
    "batch_size = 256\n",
    "learning_rate = 0.001\n",
    "decay = 1e-06"
   ]
  },
  {
   "cell_type": "markdown",
   "metadata": {},
   "source": [
    "- Compile"
   ]
  },
  {
   "cell_type": "code",
   "execution_count": 61,
   "metadata": {},
   "outputs": [],
   "source": [
    "ME.compile(optimizer = Adam(lr = learning_rate, decay = decay), loss='categorical_crossentropy', metrics=['acc'])"
   ]
  },
  {
   "cell_type": "markdown",
   "metadata": {},
   "source": [
    "- Train"
   ]
  },
  {
   "cell_type": "code",
   "execution_count": 62,
   "metadata": {
    "scrolled": true
   },
   "outputs": [
    {
     "name": "stdout",
     "output_type": "stream",
     "text": [
      "Train on 337935 samples, validate on 84484 samples\n",
      "Epoch 1/20\n",
      "337935/337935 [==============================] - 50s 147us/sample - loss: 0.8870 - acc: 0.8089 - val_loss: 0.2554 - val_acc: 0.9168\n",
      "Epoch 2/20\n",
      "337935/337935 [==============================] - 49s 146us/sample - loss: 0.3810 - acc: 0.8791 - val_loss: 0.2543 - val_acc: 0.9192\n",
      "Epoch 3/20\n",
      "337935/337935 [==============================] - 49s 146us/sample - loss: 0.3490 - acc: 0.8888 - val_loss: 0.2440 - val_acc: 0.9227\n",
      "Epoch 4/20\n",
      "337935/337935 [==============================] - 49s 146us/sample - loss: 0.3087 - acc: 0.9018 - val_loss: 0.2194 - val_acc: 0.9308\n",
      "Epoch 5/20\n",
      "337935/337935 [==============================] - 49s 146us/sample - loss: 0.2700 - acc: 0.9154 - val_loss: 0.1992 - val_acc: 0.9356\n",
      "Epoch 6/20\n",
      "337935/337935 [==============================] - 49s 146us/sample - loss: 0.2461 - acc: 0.9226 - val_loss: 0.1880 - val_acc: 0.9413\n",
      "Epoch 7/20\n",
      "337935/337935 [==============================] - 49s 146us/sample - loss: 0.2289 - acc: 0.9287 - val_loss: 0.1857 - val_acc: 0.9434\n",
      "Epoch 8/20\n",
      "337935/337935 [==============================] - 49s 146us/sample - loss: 0.2193 - acc: 0.9318 - val_loss: 0.1860 - val_acc: 0.9419\n",
      "Epoch 9/20\n",
      "337935/337935 [==============================] - 49s 146us/sample - loss: 0.2115 - acc: 0.9339 - val_loss: 0.1812 - val_acc: 0.9445\n",
      "Epoch 10/20\n",
      "337935/337935 [==============================] - 49s 146us/sample - loss: 0.2022 - acc: 0.9367 - val_loss: 0.1884 - val_acc: 0.9442\n",
      "Epoch 11/20\n",
      "337935/337935 [==============================] - 49s 146us/sample - loss: 0.1967 - acc: 0.9387 - val_loss: 0.1762 - val_acc: 0.9466\n",
      "Epoch 12/20\n",
      "337935/337935 [==============================] - 49s 146us/sample - loss: 0.1915 - acc: 0.9401 - val_loss: 0.1756 - val_acc: 0.9459\n",
      "Epoch 13/20\n",
      "337935/337935 [==============================] - 49s 146us/sample - loss: 0.1888 - acc: 0.9412 - val_loss: 0.1829 - val_acc: 0.9469\n",
      "Epoch 14/20\n",
      "337935/337935 [==============================] - 49s 146us/sample - loss: 0.1831 - acc: 0.9428 - val_loss: 0.1775 - val_acc: 0.9463\n",
      "Epoch 15/20\n",
      "337935/337935 [==============================] - 49s 146us/sample - loss: 0.1797 - acc: 0.9442 - val_loss: 0.1782 - val_acc: 0.9458\n",
      "Epoch 16/20\n",
      "337935/337935 [==============================] - 49s 146us/sample - loss: 0.1777 - acc: 0.9445 - val_loss: 0.1879 - val_acc: 0.9453\n",
      "Epoch 17/20\n",
      "337935/337935 [==============================] - 49s 146us/sample - loss: 0.1732 - acc: 0.9464 - val_loss: 0.1878 - val_acc: 0.9469\n",
      "Epoch 18/20\n",
      "337935/337935 [==============================] - 49s 146us/sample - loss: 0.1702 - acc: 0.9467 - val_loss: 0.1940 - val_acc: 0.9459\n",
      "Epoch 19/20\n",
      "337935/337935 [==============================] - 49s 146us/sample - loss: 0.1705 - acc: 0.9469 - val_loss: 0.1926 - val_acc: 0.9473\n"
     ]
    }
   ],
   "source": [
    "ME_history = ME.fit([X_train_char, X_train_word], y_train, epochs=epochs, batch_size=batch_size, validation_data=([X_test_char, X_test_word], y_test), callbacks=[EarlyStopping(monitor='val_loss',patience=7, min_delta=0.0001)])"
   ]
  },
  {
   "cell_type": "markdown",
   "metadata": {},
   "source": [
    "- Save"
   ]
  },
  {
   "cell_type": "code",
   "execution_count": 95,
   "metadata": {},
   "outputs": [],
   "source": [
    "ME.save('proposed_ME_model.h5')"
   ]
  },
  {
   "cell_type": "markdown",
   "metadata": {},
   "source": [
    "# ROC curve"
   ]
  },
  {
   "cell_type": "code",
   "execution_count": 64,
   "metadata": {},
   "outputs": [],
   "source": [
    "from sklearn.metrics import roc_curve, auc\n",
    "from sklearn.model_selection import train_test_split\n",
    "from sklearn.preprocessing import label_binarize\n",
    "from sklearn.multiclass import OneVsRestClassifier"
   ]
  },
  {
   "cell_type": "code",
   "execution_count": 65,
   "metadata": {},
   "outputs": [],
   "source": [
    "y_true = np.array(y_test)"
   ]
  },
  {
   "cell_type": "code",
   "execution_count": 66,
   "metadata": {},
   "outputs": [],
   "source": [
    "class_num = 4"
   ]
  },
  {
   "cell_type": "markdown",
   "metadata": {},
   "source": [
    "- Character-level"
   ]
  },
  {
   "cell_type": "code",
   "execution_count": 67,
   "metadata": {},
   "outputs": [],
   "source": [
    "y_pred = np.array(load_char_model.predict(X_test_char))"
   ]
  },
  {
   "cell_type": "code",
   "execution_count": 68,
   "metadata": {},
   "outputs": [
    {
     "data": {
      "text/plain": [
       "array([[0., 0., 1., 0.],\n",
       "       [0., 1., 0., 0.],\n",
       "       [0., 0., 1., 0.],\n",
       "       ...,\n",
       "       [1., 0., 0., 0.],\n",
       "       [0., 1., 0., 0.],\n",
       "       [0., 1., 0., 0.]], dtype=float32)"
      ]
     },
     "execution_count": 68,
     "metadata": {},
     "output_type": "execute_result"
    }
   ],
   "source": [
    "y_true"
   ]
  },
  {
   "cell_type": "code",
   "execution_count": 69,
   "metadata": {},
   "outputs": [
    {
     "data": {
      "text/plain": [
       "array([[3.1039428e-03, 2.1751853e-02, 9.7375917e-01, 1.3851163e-03],\n",
       "       [4.6808276e-02, 8.5287595e-01, 7.5088926e-02, 2.5226884e-02],\n",
       "       [1.9458302e-03, 6.1939042e-03, 9.9045169e-01, 1.4085978e-03],\n",
       "       ...,\n",
       "       [9.9963737e-01, 1.4008026e-04, 5.8235742e-05, 1.6421157e-04],\n",
       "       [8.5136212e-02, 6.8056935e-01, 1.8847197e-01, 4.5822479e-02],\n",
       "       [1.4506607e-02, 3.8487801e-01, 2.0045862e-02, 5.8056957e-01]],\n",
       "      dtype=float32)"
      ]
     },
     "execution_count": 69,
     "metadata": {},
     "output_type": "execute_result"
    }
   ],
   "source": [
    "y_pred"
   ]
  },
  {
   "cell_type": "code",
   "execution_count": 70,
   "metadata": {},
   "outputs": [
    {
     "name": "stdout",
     "output_type": "stream",
     "text": [
      "(84484, 4)\n",
      "(84484, 4)\n"
     ]
    }
   ],
   "source": [
    "print(y_pred.shape)\n",
    "print(y_true.shape)"
   ]
  },
  {
   "cell_type": "code",
   "execution_count": 71,
   "metadata": {},
   "outputs": [
    {
     "data": {
      "image/png": "[encoded data removed]",
      "text/plain": [
       "<Figure size 432x288 with 1 Axes>"
      ]
     },
     "metadata": {
      "needs_background": "light"
     },
     "output_type": "display_data"
    },
    {
     "data": {
      "image/png": "[encoded data removed]",
      "text/plain": [
       "<Figure size 432x288 with 1 Axes>"
      ]
     },
     "metadata": {
      "needs_background": "light"
     },
     "output_type": "display_data"
    },
    {
     "data": {
      "image/png": "[encoded data removed]",
      "text/plain": [
       "<Figure size 432x288 with 1 Axes>"
      ]
     },
     "metadata": {
      "needs_background": "light"
     },
     "output_type": "display_data"
    },
    {
     "data": {
      "image/png": "[encoded data removed]",
      "text/plain": [
       "<Figure size 432x288 with 1 Axes>"
      ]
     },
     "metadata": {
      "needs_background": "light"
     },
     "output_type": "display_data"
    }
   ],
   "source": [
    "fpr = dict()\n",
    "tpr = dict()\n",
    "roc_auc = dict()\n",
    "\n",
    "for i in range(class_num):\n",
    "#     print(y_true[:, i])\n",
    "#     print(y_pred[:, i])\n",
    "    \n",
    "    fpr[i], tpr[i], _ = roc_curve(y_true[:, i], y_pred[:, i])\n",
    "    \n",
    "#     print(fpr)\n",
    "#     print(tpr)\n",
    "\n",
    "    roc_auc[i] = auc(fpr[i], tpr[i])\n",
    "    eer_threshold = fpr[i][np.argmin(np.abs(fpr[i] + tpr[i] - 1))]\n",
    "    \n",
    "    plt.figure()\n",
    "    lw = 2\n",
    "    plt.plot(fpr[i], tpr[i], color='darkorange',\n",
    "             lw=lw, label='area = %0.06f, EER: %0.06f' % (roc_auc[i], eer_threshold))\n",
    "    plt.plot([0, 1], [0, 1], color='navy', lw=lw, linestyle='--')\n",
    "    plt.xlim([0.0, 1.0])\n",
    "    plt.ylim([0.0, 1.05])\n",
    "    plt.xlabel('False Positive Rate')\n",
    "    plt.ylabel('True Positive Rate')\n",
    "    plt.title('class ' + str(i + 1))\n",
    "    plt.legend(loc=\"lower right\")\n",
    "    plt.show()"
   ]
  },
  {
   "cell_type": "code",
   "execution_count": 72,
   "metadata": {},
   "outputs": [],
   "source": [
    "char_all_fpr = np.unique(np.concatenate([fpr[i] for i in range(class_num)]))"
   ]
  },
  {
   "cell_type": "code",
   "execution_count": 73,
   "metadata": {},
   "outputs": [
    {
     "data": {
      "text/plain": [
       "array([0.00000000e+00, 1.32708718e-05, 1.59360010e-05, ...,\n",
       "       9.99666809e-01, 9.99703830e-01, 1.00000000e+00])"
      ]
     },
     "execution_count": 73,
     "metadata": {},
     "output_type": "execute_result"
    }
   ],
   "source": [
    "char_all_fpr"
   ]
  },
  {
   "cell_type": "code",
   "execution_count": 74,
   "metadata": {},
   "outputs": [],
   "source": [
    "from scipy import interp\n",
    "\n",
    "char_mean_tpr = np.zeros_like(char_all_fpr)\n",
    "for i in range(class_num):\n",
    "    char_mean_tpr += interp(char_all_fpr, fpr[i], tpr[i])\n",
    "    \n",
    "char_mean_tpr /= class_num"
   ]
  },
  {
   "cell_type": "code",
   "execution_count": 75,
   "metadata": {},
   "outputs": [
    {
     "data": {
      "text/plain": [
       "array([0.06705891, 0.07963444, 0.08249394, ..., 1.        , 1.        ,\n",
       "       1.        ])"
      ]
     },
     "execution_count": 75,
     "metadata": {},
     "output_type": "execute_result"
    }
   ],
   "source": [
    "char_mean_tpr"
   ]
  },
  {
   "cell_type": "code",
   "execution_count": 76,
   "metadata": {},
   "outputs": [
    {
     "data": {
      "image/png": "[encoded data removed]",
      "text/plain": [
       "<Figure size 432x288 with 1 Axes>"
      ]
     },
     "metadata": {
      "needs_background": "light"
     },
     "output_type": "display_data"
    }
   ],
   "source": [
    "from itertools import cycle\n",
    "\n",
    "# Plot all ROC curves\n",
    "plt.figure()\n",
    "plt.plot(char_all_fpr, char_mean_tpr,\n",
    "         label='micro-average ROC curve (area = {0:0.4f})'\n",
    "               ''.format(auc(char_all_fpr, char_mean_tpr)),\n",
    "         color='deeppink', linestyle=':', linewidth=4)\n",
    "\n",
    "colors = cycle(['aqua', 'darkorange', 'cornflowerblue', 'red', 'green', 'yellow', 'gray', 'blue', 'orange', 'black'])\n",
    "for i, color in zip(range(class_num), colors):\n",
    "    category = ''\n",
    "    if i == 0: category = 'e'\n",
    "    elif i == 1: category = 'b'\n",
    "    elif i == 2: category = 't'\n",
    "    elif i == 3: category = 'm'\n",
    "    plt.plot(fpr[i], tpr[i], color=color, lw=lw,\n",
    "             label='ROC curve of category {0} (area = {1:0.4f})'\n",
    "             ''.format(category, roc_auc[i]))\n",
    "\n",
    "plt.plot([0, 1], [0, 1], 'k--', lw=lw)\n",
    "plt.xlim([0.0, 1.0])\n",
    "plt.ylim([0.0, 1.05])\n",
    "plt.xlabel('False Positive Rate')\n",
    "plt.ylabel('True Positive Rate')\n",
    "plt.title('ROC curve of character-level single classifier')\n",
    "plt.legend(loc=\"lower right\")\n",
    "plt.show()"
   ]
  },
  {
   "cell_type": "markdown",
   "metadata": {},
   "source": [
    "- word-level"
   ]
  },
  {
   "cell_type": "code",
   "execution_count": 77,
   "metadata": {},
   "outputs": [],
   "source": [
    "y_pred = np.array(load_word_model.predict(X_test_word))"
   ]
  },
  {
   "cell_type": "code",
   "execution_count": 78,
   "metadata": {},
   "outputs": [
    {
     "data": {
      "text/plain": [
       "array([[0., 0., 1., 0.],\n",
       "       [0., 1., 0., 0.],\n",
       "       [0., 0., 1., 0.],\n",
       "       ...,\n",
       "       [1., 0., 0., 0.],\n",
       "       [0., 1., 0., 0.],\n",
       "       [0., 1., 0., 0.]], dtype=float32)"
      ]
     },
     "execution_count": 78,
     "metadata": {},
     "output_type": "execute_result"
    }
   ],
   "source": [
    "y_true"
   ]
  },
  {
   "cell_type": "code",
   "execution_count": 79,
   "metadata": {},
   "outputs": [
    {
     "data": {
      "text/plain": [
       "array([[3.0685845e-04, 8.4327962e-03, 9.9075490e-01, 5.0535100e-04],\n",
       "       [2.7620302e-08, 9.9999797e-01, 2.0064670e-06, 7.5393242e-10],\n",
       "       [1.9334738e-20, 8.8374218e-11, 1.0000000e+00, 3.9499012e-17],\n",
       "       ...,\n",
       "       [9.6584743e-01, 1.0900262e-02, 9.3698353e-03, 1.3882494e-02],\n",
       "       [2.2189782e-04, 9.9816519e-01, 1.5725056e-03, 4.0453699e-05],\n",
       "       [6.0732887e-08, 9.9999690e-01, 2.9432658e-06, 1.5964476e-09]],\n",
       "      dtype=float32)"
      ]
     },
     "execution_count": 79,
     "metadata": {},
     "output_type": "execute_result"
    }
   ],
   "source": [
    "y_pred"
   ]
  },
  {
   "cell_type": "code",
   "execution_count": 80,
   "metadata": {},
   "outputs": [
    {
     "name": "stdout",
     "output_type": "stream",
     "text": [
      "(84484, 4)\n",
      "(84484, 4)\n"
     ]
    }
   ],
   "source": [
    "print(y_pred.shape)\n",
    "print(y_true.shape)"
   ]
  },
  {
   "cell_type": "code",
   "execution_count": 81,
   "metadata": {},
   "outputs": [
    {
     "data": {
      "image/png": "[encoded data removed]",
      "text/plain": [
       "<Figure size 432x288 with 1 Axes>"
      ]
     },
     "metadata": {
      "needs_background": "light"
     },
     "output_type": "display_data"
    },
    {
     "data": {
      "image/png": "[encoded data removed]",
      "text/plain": [
       "<Figure size 432x288 with 1 Axes>"
      ]
     },
     "metadata": {
      "needs_background": "light"
     },
     "output_type": "display_data"
    },
    {
     "data": {
      "image/png": "[encoded data removed]",
      "text/plain": [
       "<Figure size 432x288 with 1 Axes>"
      ]
     },
     "metadata": {
      "needs_background": "light"
     },
     "output_type": "display_data"
    },
    {
     "data": {
      "image/png": "[encoded data removed]",
      "text/plain": [
       "<Figure size 432x288 with 1 Axes>"
      ]
     },
     "metadata": {
      "needs_background": "light"
     },
     "output_type": "display_data"
    }
   ],
   "source": [
    "fpr = dict()\n",
    "tpr = dict()\n",
    "roc_auc = dict()\n",
    "\n",
    "for i in range(class_num):\n",
    "#     print(y_true[:, i])\n",
    "#     print(y_pred[:, i])\n",
    "    \n",
    "    fpr[i], tpr[i], _ = roc_curve(y_true[:, i], y_pred[:, i])\n",
    "    \n",
    "#     print(fpr)\n",
    "#     print(tpr)\n",
    "\n",
    "    roc_auc[i] = auc(fpr[i], tpr[i])\n",
    "    eer_threshold = fpr[i][np.argmin(np.abs(fpr[i] + tpr[i] - 1))]\n",
    "    \n",
    "    plt.figure()\n",
    "    lw = 2\n",
    "    plt.plot(fpr[i], tpr[i], color='darkorange',\n",
    "             lw=lw, label='area = %0.06f, EER: %0.06f' % (roc_auc[i], eer_threshold))\n",
    "    plt.plot([0, 1], [0, 1], color='navy', lw=lw, linestyle='--')\n",
    "    plt.xlim([0.0, 1.0])\n",
    "    plt.ylim([0.0, 1.05])\n",
    "    plt.xlabel('False Positive Rate')\n",
    "    plt.ylabel('True Positive Rate')\n",
    "    plt.title('class ' + str(i + 1))\n",
    "    plt.legend(loc=\"lower right\")\n",
    "    plt.show()"
   ]
  },
  {
   "cell_type": "code",
   "execution_count": 82,
   "metadata": {},
   "outputs": [],
   "source": [
    "word_all_fpr = np.unique(np.concatenate([fpr[i] for i in range(class_num)]))"
   ]
  },
  {
   "cell_type": "code",
   "execution_count": 83,
   "metadata": {},
   "outputs": [
    {
     "data": {
      "text/plain": [
       "array([0.00000000e+00, 1.32708718e-05, 1.59360010e-05, ...,\n",
       "       9.98885247e-01, 9.98938330e-01, 1.00000000e+00])"
      ]
     },
     "execution_count": 83,
     "metadata": {},
     "output_type": "execute_result"
    }
   ],
   "source": [
    "word_all_fpr"
   ]
  },
  {
   "cell_type": "code",
   "execution_count": 84,
   "metadata": {},
   "outputs": [],
   "source": [
    "from scipy import interp\n",
    "\n",
    "word_mean_tpr = np.zeros_like(word_all_fpr)\n",
    "for i in range(class_num):\n",
    "    word_mean_tpr += interp(word_all_fpr, fpr[i], tpr[i])\n",
    "    \n",
    "word_mean_tpr /= class_num"
   ]
  },
  {
   "cell_type": "code",
   "execution_count": 85,
   "metadata": {},
   "outputs": [
    {
     "data": {
      "text/plain": [
       "array([0.11504577, 0.15753491, 0.16605142, ..., 1.        , 1.        ,\n",
       "       1.        ])"
      ]
     },
     "execution_count": 85,
     "metadata": {},
     "output_type": "execute_result"
    }
   ],
   "source": [
    "word_mean_tpr"
   ]
  },
  {
   "cell_type": "code",
   "execution_count": 86,
   "metadata": {},
   "outputs": [
    {
     "data": {
      "image/png": "[encoded data removed]",
      "text/plain": [
       "<Figure size 432x288 with 1 Axes>"
      ]
     },
     "metadata": {
      "needs_background": "light"
     },
     "output_type": "display_data"
    }
   ],
   "source": [
    "from itertools import cycle\n",
    "\n",
    "# Plot all ROC curves\n",
    "plt.figure()\n",
    "plt.plot(word_all_fpr, word_mean_tpr,\n",
    "         label='micro-average ROC curve (area = {0:0.4f})'\n",
    "               ''.format(auc(word_all_fpr, word_mean_tpr)),\n",
    "         color='deeppink', linestyle=':', linewidth=4)\n",
    "\n",
    "colors = cycle(['aqua', 'darkorange', 'cornflowerblue', 'red', 'green', 'yellow', 'gray', 'blue', 'orange', 'black'])\n",
    "for i, color in zip(range(class_num), colors):\n",
    "    category = ''\n",
    "    if i == 0: category = 'e'\n",
    "    elif i == 1: category = 'b'\n",
    "    elif i == 2: category = 't'\n",
    "    elif i == 3: category = 'm'\n",
    "    plt.plot(fpr[i], tpr[i], color=color, lw=lw,\n",
    "             label='ROC curve of category {0} (area = {1:0.4f})'\n",
    "             ''.format(category, roc_auc[i]))\n",
    "\n",
    "plt.plot([0, 1], [0, 1], 'k--', lw=lw)\n",
    "plt.xlim([0.0, 1.0])\n",
    "plt.ylim([0.0, 1.05])\n",
    "plt.xlabel('False Positive Rate')\n",
    "plt.ylabel('True Positive Rate')\n",
    "plt.title('ROC curve of character-level single classifier')\n",
    "plt.legend(loc=\"lower right\")\n",
    "plt.show()"
   ]
  },
  {
   "cell_type": "markdown",
   "metadata": {},
   "source": [
    "- ME"
   ]
  },
  {
   "cell_type": "code",
   "execution_count": 87,
   "metadata": {},
   "outputs": [
    {
     "name": "stdout",
     "output_type": "stream",
     "text": [
      "WARNING:tensorflow:From /home/taeyong/anaconda3/lib/python3.7/site-packages/tensorflow_core/python/ops/init_ops.py:97: calling VarianceScaling.__init__ (from tensorflow.python.ops.init_ops) with dtype is deprecated and will be removed in a future version.\n",
      "Instructions for updating:\n",
      "Call initializer instance with the dtype argument instead of passing it to the constructor\n"
     ]
    }
   ],
   "source": [
    "ME = load_model('weighted_gate_network_ME_model.h5')"
   ]
  },
  {
   "cell_type": "code",
   "execution_count": 88,
   "metadata": {},
   "outputs": [],
   "source": [
    "y_pred = np.array(ME.predict([X_test_char, X_test_word]))"
   ]
  },
  {
   "cell_type": "code",
   "execution_count": 89,
   "metadata": {},
   "outputs": [
    {
     "data": {
      "image/png": "[encoded data removed]",
      "text/plain": [
       "<Figure size 432x288 with 1 Axes>"
      ]
     },
     "metadata": {
      "needs_background": "light"
     },
     "output_type": "display_data"
    },
    {
     "data": {
      "image/png": "[encoded data removed]",
      "text/plain": [
       "<Figure size 432x288 with 1 Axes>"
      ]
     },
     "metadata": {
      "needs_background": "light"
     },
     "output_type": "display_data"
    },
    {
     "data": {
      "image/png": "[encoded data removed]",
      "text/plain": [
       "<Figure size 432x288 with 1 Axes>"
      ]
     },
     "metadata": {
      "needs_background": "light"
     },
     "output_type": "display_data"
    },
    {
     "data": {
      "image/png": "[encoded data removed]",
      "text/plain": [
       "<Figure size 432x288 with 1 Axes>"
      ]
     },
     "metadata": {
      "needs_background": "light"
     },
     "output_type": "display_data"
    }
   ],
   "source": [
    "fpr = dict()\n",
    "tpr = dict()\n",
    "roc_auc = dict()\n",
    "\n",
    "for i in range(class_num):\n",
    "#     print(y_true[:, i])\n",
    "#     print(y_pred[:, i])\n",
    "    \n",
    "    fpr[i], tpr[i], _ = roc_curve(y_true[:, i], y_pred[:, i])\n",
    "    \n",
    "#     print(fpr)\n",
    "#     print(tpr)\n",
    "\n",
    "    roc_auc[i] = auc(fpr[i], tpr[i])\n",
    "    eer_threshold = fpr[i][np.argmin(np.abs(fpr[i] + tpr[i] - 1))]\n",
    "    \n",
    "    plt.figure()\n",
    "    lw = 2\n",
    "    plt.plot(fpr[i], tpr[i], color='darkorange',\n",
    "             lw=lw, label='area = %0.06f, EER: %0.06f' % (roc_auc[i], eer_threshold))\n",
    "    plt.plot([0, 1], [0, 1], color='navy', lw=lw, linestyle='--')\n",
    "    plt.xlim([0.0, 1.0])\n",
    "    plt.ylim([0.0, 1.05])\n",
    "    plt.xlabel('False Positive Rate')\n",
    "    plt.ylabel('True Positive Rate')\n",
    "    plt.title('class ' + str(i + 1))\n",
    "    plt.legend(loc=\"lower right\")\n",
    "    plt.show()"
   ]
  },
  {
   "cell_type": "code",
   "execution_count": 90,
   "metadata": {},
   "outputs": [],
   "source": [
    "ME_all_fpr = np.unique(np.concatenate([fpr[i] for i in range(class_num)]))"
   ]
  },
  {
   "cell_type": "code",
   "execution_count": 91,
   "metadata": {},
   "outputs": [
    {
     "data": {
      "text/plain": [
       "array([0.00000000e+00, 1.63065634e-05, 2.65417435e-05, ...,\n",
       "       9.97649149e-01, 9.97686171e-01, 1.00000000e+00])"
      ]
     },
     "execution_count": 91,
     "metadata": {},
     "output_type": "execute_result"
    }
   ],
   "source": [
    "ME_all_fpr"
   ]
  },
  {
   "cell_type": "code",
   "execution_count": 92,
   "metadata": {},
   "outputs": [],
   "source": [
    "from scipy import interp\n",
    "\n",
    "ME_mean_tpr = np.zeros_like(ME_all_fpr)\n",
    "for i in range(class_num):\n",
    "    ME_mean_tpr += interp(ME_all_fpr, fpr[i], tpr[i])\n",
    "    \n",
    "ME_mean_tpr /= class_num"
   ]
  },
  {
   "cell_type": "code",
   "execution_count": 93,
   "metadata": {},
   "outputs": [
    {
     "data": {
      "text/plain": [
       "array([0.04080487, 0.11919655, 0.16384081, ..., 1.        , 1.        ,\n",
       "       1.        ])"
      ]
     },
     "execution_count": 93,
     "metadata": {},
     "output_type": "execute_result"
    }
   ],
   "source": [
    "ME_mean_tpr"
   ]
  },
  {
   "cell_type": "code",
   "execution_count": 94,
   "metadata": {},
   "outputs": [
    {
     "data": {
      "image/png": "[encoded data removed]",
      "text/plain": [
       "<Figure size 432x288 with 1 Axes>"
      ]
     },
     "metadata": {
      "needs_background": "light"
     },
     "output_type": "display_data"
    }
   ],
   "source": [
    "from itertools import cycle\n",
    "\n",
    "# Plot all ROC curves\n",
    "plt.figure()\n",
    "plt.plot(ME_all_fpr, ME_mean_tpr,\n",
    "         label='micro-average ROC curve (area = {0:0.4f})'\n",
    "               ''.format(auc(ME_all_fpr, ME_mean_tpr)),\n",
    "         color='deeppink', linestyle=':', linewidth=4)\n",
    "\n",
    "colors = cycle(['aqua', 'darkorange', 'cornflowerblue', 'red', 'green', 'yellow', 'gray', 'blue', 'orange', 'black'])\n",
    "for i, color in zip(range(class_num), colors):\n",
    "    category = ''\n",
    "    if i == 0: category = 'e'\n",
    "    elif i == 1: category = 'b'\n",
    "    elif i == 2: category = 't'\n",
    "    elif i == 3: category = 'm'\n",
    "    plt.plot(fpr[i], tpr[i], color=color, lw=lw,\n",
    "             label='ROC curve of category {0} (area = {1:0.4f})'\n",
    "             ''.format(category, roc_auc[i]))\n",
    "\n",
    "plt.plot([0, 1], [0, 1], 'k--', lw=lw)\n",
    "plt.xlim([0.0, 1.0])\n",
    "plt.ylim([0.0, 1.05])\n",
    "plt.xlabel('False Positive Rate')\n",
    "plt.ylabel('True Positive Rate')\n",
    "plt.title('ROC curve of proposed ME model')\n",
    "plt.legend(loc=\"lower right\")\n",
    "plt.show()"
   ]
  },
  {
   "cell_type": "markdown",
   "metadata": {},
   "source": [
    "- Comparison with ROC curve of each model"
   ]
  },
  {
   "cell_type": "code",
   "execution_count": null,
   "metadata": {},
   "outputs": [],
   "source": [
    "from itertools import cycle\n",
    "\n",
    "# Plot all ROC curves\n",
    "plt.figure()\n",
    "plt.plot(char_all_fpr, char_mean_tpr,\n",
    "         label='low-level model average ROC curve (area = {0:0.4f})'\n",
    "               ''.format(auc(char_all_fpr, char_mean_tpr)),\n",
    "         color='green', linestyle=':', linewidth=4)\n",
    "\n",
    "plt.plot(word_all_fpr, word_mean_tpr,\n",
    "         label='high-level model average ROC curve (area = {0:0.4f})'\n",
    "               ''.format(auc(word_all_fpr, word_mean_tpr)),\n",
    "         color='aqua', linestyle=':', linewidth=4)\n",
    "\n",
    "plt.plot(ME_all_fpr, ME_mean_tpr,\n",
    "         label='proposed ME model average ROC curve (area = {0:0.4f})'\n",
    "               ''.format(auc(ME_all_fpr, ME_mean_tpr)),\n",
    "         color='black', linestyle=':', linewidth=4)\n",
    "\n",
    "plt.plot([0, 1], [0, 1], 'k--', lw=lw)\n",
    "plt.xlim([0.0, 1.0])\n",
    "plt.ylim([0.0, 1.05])\n",
    "plt.xlabel('False Positive Rate')\n",
    "plt.ylabel('True Positive Rate')\n",
    "plt.title('ROC curve')\n",
    "# plt.title('ROC curve of word-level recurrent convolution model')\n",
    "# plt.title('ROC curve of mixture of experts model')\n",
    "plt.legend(loc=\"lower right\")\n",
    "plt.show()"
   ]
  },
  {
   "cell_type": "markdown",
   "metadata": {},
   "source": [
    "# Confusion Matrix "
   ]
  },
  {
   "cell_type": "code",
   "execution_count": 96,
   "metadata": {},
   "outputs": [],
   "source": [
    "ME = load_model('proposed_ME_model.h5')"
   ]
  },
  {
   "cell_type": "code",
   "execution_count": 97,
   "metadata": {},
   "outputs": [],
   "source": [
    "from sklearn.metrics import roc_curve, auc\n",
    "from scipy import interp\n",
    "from itertools import cycle\n",
    "import itertools\n",
    "from sklearn.metrics import confusion_matrix\n",
    "from sklearn.utils.multiclass import unique_labels"
   ]
  },
  {
   "cell_type": "code",
   "execution_count": 158,
   "metadata": {},
   "outputs": [],
   "source": [
    "import numpy as np\n",
    "import pandas as pd\n",
    "import matplotlib.pyplot as plt\n",
    "import seaborn as sns\n",
    "\n",
    "def cm_analysis(y_true, y_pred, labels, ymap=None, figsize=(10,10)):\n",
    "    \"\"\"\n",
    "    Generate matrix plot of confusion matrix with pretty annotations.\n",
    "    The plot image is saved to disk.\n",
    "    args: \n",
    "      y_true:    true label of the data, with shape (nsamples,)\n",
    "      y_pred:    prediction of the data, with shape (nsamples,)\n",
    "      filename:  filename of figure file to save\n",
    "      labels:    string array, name the order of class labels in the confusion matrix.\n",
    "                 use `clf.classes_` if using scikit-learn models.\n",
    "                 with shape (nclass,).\n",
    "      ymap:      dict: any -> string, length == nclass.\n",
    "                 if not None, map the labels & ys to more understandable strings.\n",
    "                 Caution: original y_true, y_pred and labels must align.\n",
    "      figsize:   the size of the figure plotted.\n",
    "    \"\"\"\n",
    "    if ymap is not None:\n",
    "        y_pred = [ymap[yi] for yi in y_pred]\n",
    "        y_true = [ymap[yi] for yi in y_true]\n",
    "        labels = [ymap[yi] for yi in labels]\n",
    "    cm = confusion_matrix(y_true, y_pred)\n",
    "    cm_sum = np.sum(cm, axis=1, keepdims=True)\n",
    "    cm_perc = cm / cm_sum.astype(float) * 100\n",
    "    annot = np.empty_like(cm).astype(str)\n",
    "    nrows, ncols = cm.shape\n",
    "    for i in range(nrows):\n",
    "        for j in range(ncols):\n",
    "            c = cm[i, j]\n",
    "            p = cm_perc[i, j]\n",
    "            if i == j:\n",
    "                s = cm_sum[i]\n",
    "                annot[i, j] = '%.1f%%\\n%d/%d' % (p, c, s)\n",
    "            elif c == 0:\n",
    "                annot[i, j] = ''\n",
    "            else:\n",
    "                annot[i, j] = '%.1f%%\\n%d' % (p, c)\n",
    "    cm = pd.DataFrame(cm, index=labels, columns=labels)\n",
    "    cm.index.name = 'Actual'\n",
    "    cm.columns.name = 'Predicted'\n",
    "    fig, ax = plt.subplots(figsize=figsize)\n",
    "    sns.set(font_scale=2)\n",
    "    sns.heatmap(cm, annot=annot, annot_kws={\"size\": 20}, fmt='', ax=ax, cmap=plt.cm.Blues, xticklabels=labels, yticklabels=labels)\n",
    "    #plt.savefig(filename)\n",
    "    plt.show()"
   ]
  },
  {
   "cell_type": "code",
   "execution_count": 159,
   "metadata": {},
   "outputs": [],
   "source": [
    "class_names = ['e', 'b', 't', 'm']"
   ]
  },
  {
   "cell_type": "code",
   "execution_count": 160,
   "metadata": {},
   "outputs": [],
   "source": [
    "predictions = ME.predict([X_test_char, X_test_word])"
   ]
  },
  {
   "cell_type": "code",
   "execution_count": 161,
   "metadata": {},
   "outputs": [
    {
     "data": {
      "text/plain": [
       "(84484, 4)"
      ]
     },
     "execution_count": 161,
     "metadata": {},
     "output_type": "execute_result"
    }
   ],
   "source": [
    "predictions.shape"
   ]
  },
  {
   "cell_type": "code",
   "execution_count": 162,
   "metadata": {},
   "outputs": [
    {
     "data": {
      "text/plain": [
       "array([2, 1, 2, ..., 0, 1, 1])"
      ]
     },
     "execution_count": 162,
     "metadata": {},
     "output_type": "execute_result"
    }
   ],
   "source": [
    "np.argmax(y_test, axis=1)"
   ]
  },
  {
   "cell_type": "code",
   "execution_count": 163,
   "metadata": {},
   "outputs": [
    {
     "data": {
      "text/plain": [
       "array([2, 1, 2, ..., 0, 1, 1])"
      ]
     },
     "execution_count": 163,
     "metadata": {},
     "output_type": "execute_result"
    }
   ],
   "source": [
    "np.argmax(predictions, axis=1)"
   ]
  },
  {
   "cell_type": "code",
   "execution_count": 164,
   "metadata": {},
   "outputs": [
    {
     "data": {
      "image/png": "[encoded data removed]",
      "text/plain": [
       "<Figure size 1080x1080 with 2 Axes>"
      ]
     },
     "metadata": {},
     "output_type": "display_data"
    }
   ],
   "source": [
    "cm_analysis(np.argmax(y_test, axis=1), np.argmax(predictions, axis=1), class_names, ymap=None, figsize=(15,15))"
   ]
  },
  {
   "cell_type": "code",
   "execution_count": null,
   "metadata": {},
   "outputs": [],
   "source": []
  }
 ],
 "metadata": {
  "kernelspec": {
   "display_name": "Python 3",
   "language": "python",
   "name": "python3"
  },
  "language_info": {
   "codemirror_mode": {
    "name": "ipython",
    "version": 3
   },
   "file_extension": ".py",
   "mimetype": "text/x-python",
   "name": "python",
   "nbconvert_exporter": "python",
   "pygments_lexer": "ipython3",
   "version": "3.7.4"
  }
 },
 "nbformat": 4,
 "nbformat_minor": 2
}
